{
 "cells": [
  {
   "cell_type": "markdown",
   "metadata": {},
   "source": [
    "### 2020_05_16 データ分析\n",
    "データ整形がだいたい終わったので実際に細かくデータを見ていく。これまで材料をgに直すデータ整形を主にやっていたので、材料のデータを主にみていく。"
   ]
  },
  {
   "cell_type": "code",
   "execution_count": 1,
   "metadata": {},
   "outputs": [],
   "source": [
    "import team1_module as t1 #モジュールのimport\n",
    "import pandas as pd"
   ]
  },
  {
   "cell_type": "markdown",
   "metadata": {},
   "source": [
    "あんまりデータ数が多くても処理が重くなるだけなので、2000年を対象にする\n"
   ]
  },
  {
   "cell_type": "code",
   "execution_count": null,
   "metadata": {},
   "outputs": [],
   "source": [
    "df_ingredient = t1.read_ingredient(2000) #材料データの読み込み\n",
    "df_recipe = t1.read_recipe(2000) #レシピデータの読み込み、後で使う\n",
    "\n",
    "df_ingredient_c = t1.clean_ingredient(df_ingredient) #データ整形の関数"
   ]
  },
  {
   "cell_type": "code",
   "execution_count": 181,
   "metadata": {},
   "outputs": [],
   "source": [
    "df_ingredient = t1.read_ingredient(2000) #材料データの読み込み"
   ]
  },
  {
   "cell_type": "markdown",
   "metadata": {},
   "source": [
    "とりあえず、生データでどういう食材が多いか調べる。"
   ]
  },
  {
   "cell_type": "code",
   "execution_count": 182,
   "metadata": {},
   "outputs": [
    {
     "data": {
      "text/plain": [
       "塩          1284\n",
       "砂糖         1026\n",
       "卵           844\n",
       "バター         634\n",
       "醤油          556\n",
       "牛乳          516\n",
       "酒           503\n",
       "水           454\n",
       "しょうゆ        449\n",
       "にんにく        407\n",
       "小麦粉         368\n",
       "こしょう        348\n",
       "サラダ油        341\n",
       "玉ねぎ         339\n",
       "薄力粉         327\n",
       "生クリーム       312\n",
       "ごま油         310\n",
       "みりん         297\n",
       "オリーブオイル     264\n",
       "マヨネーズ       262\n",
       "Name: ingredient, dtype: int64"
      ]
     },
     "execution_count": 182,
     "metadata": {},
     "output_type": "execute_result"
    }
   ],
   "source": [
    "res = df_ingredient[\"ingredient\"].value_counts()\n",
    "res[:20]"
   ]
  },
  {
   "cell_type": "markdown",
   "metadata": {},
   "source": [
    "やはり砂糖、塩などよく使われる食材が表示される。\n",
    "もともと、料理の味を食材によって定量的に評価したかったので、食材をgに整形していく。データ整形のやり方としては、g表記のものはgを取り除くだけだが、大さじ/小さじ+数字と記載されてるものについては、それぞれ15g,5gとして計算し、データが欠落しているもの、また適量と書いてあるものについては0.5とした。なお、この過程で、\"☆\"などの記号や、全角から半角に変換している。"
   ]
  },
  {
   "cell_type": "code",
   "execution_count": 184,
   "metadata": {},
   "outputs": [
    {
     "data": {
      "text/plain": [
       "塩            797\n",
       "砂糖           452\n",
       "バター          307\n",
       "こしょう         279\n",
       "薄力粉          275\n",
       "コショウ         144\n",
       "ベーキングパウダー    121\n",
       "グラニュー糖       113\n",
       "小麦粉          112\n",
       "無塩バター        110\n",
       "醤油           105\n",
       "胡椒            95\n",
       "ごま油           93\n",
       "しょうゆ          89\n",
       "クリームチーズ       74\n",
       "レモン汁          61\n",
       "酒             60\n",
       "バニラエッセンス      59\n",
       "塩こしょう         51\n",
       "片栗粉           51\n",
       "Name: ingredient, dtype: int64"
      ]
     },
     "execution_count": 184,
     "metadata": {},
     "output_type": "execute_result"
    }
   ],
   "source": [
    "df_ingredient_c = t1.clean_ingredient(df_ingredient) #データ整形の関数に通す\n",
    "res = df_ingredient_c[\"ingredient\"].value_counts()\n",
    "res[:20]"
   ]
  },
  {
   "cell_type": "markdown",
   "metadata": {},
   "source": [
    "塩、砂糖は変わらなかったが、卵、ニンニクなどが消えて粉ものが上位に来た。データ整形前後のデータの大きさの差は以下の通り。"
   ]
  },
  {
   "cell_type": "code",
   "execution_count": 185,
   "metadata": {},
   "outputs": [
    {
     "name": "stdout",
     "output_type": "stream",
     "text": [
      "101892\n",
      "23211\n"
     ]
    }
   ],
   "source": [
    "print(df_ingredient.size)\n",
    "print(df_ingredient_c.size)"
   ]
  },
  {
   "cell_type": "markdown",
   "metadata": {},
   "source": [
    "### 仮説1：ほとんどの料理で使われる調味料なら料理の味を定量化できる\n",
    "2000年に使われている食材の総数は"
   ]
  },
  {
   "cell_type": "code",
   "execution_count": 188,
   "metadata": {},
   "outputs": [
    {
     "data": {
      "text/plain": [
       "5754"
      ]
     },
     "execution_count": 188,
     "metadata": {},
     "output_type": "execute_result"
    }
   ],
   "source": [
    "df_ingredient[\"ingredient\"].value_counts().size"
   ]
  },
  {
   "cell_type": "markdown",
   "metadata": {},
   "source": [
    "食材数で5754こ存在する。たとえ単純によく使われる上位10の食材でもかなり疎な表現になってしまう。そこで、ひとまず調味料だけにしぼって考える。幸い、調味料は大さじ、小さじによる表記が多いため比較的gに変換しやすい。実際、塩のデータ数をデータ整形残後で比較してみると"
   ]
  },
  {
   "cell_type": "code",
   "execution_count": 186,
   "metadata": {},
   "outputs": [
    {
     "name": "stdout",
     "output_type": "stream",
     "text": [
      "3852\n",
      "2391\n"
     ]
    }
   ],
   "source": [
    "print(df_ingredient[df_ingredient[\"ingredient\"]==\"塩\"].size)\n",
    "print(df_ingredient_c[df_ingredient_c[\"ingredient\"]==\"塩\"].size)"
   ]
  },
  {
   "cell_type": "markdown",
   "metadata": {},
   "source": [
    "データ総数が1/5になったのに対し、2/3程度しか減っていない。これより比較的十分なデータ数が集まると思い、各料理ごとにgを単位とする調味料ベクトルを作成する。  \n",
    "今回は上位にある砂糖、塩、塩こしょう、バター、醤油を調味料ベクトルとする。そのまえに、グラニュー糖と砂糖など表記の揺れがあるので、それをなくす。結果論だが、1998-2014年のデータをまとめると塩こしょうがたくさん出てくるため塩こしょうにしたが、2000年のみで見るとこしょう単体のほうが多いと感じたので"
   ]
  },
  {
   "cell_type": "code",
   "execution_count": 192,
   "metadata": {},
   "outputs": [
    {
     "data": {
      "text/html": [
       "<div>\n",
       "<style scoped>\n",
       "    .dataframe tbody tr th:only-of-type {\n",
       "        vertical-align: middle;\n",
       "    }\n",
       "\n",
       "    .dataframe tbody tr th {\n",
       "        vertical-align: top;\n",
       "    }\n",
       "\n",
       "    .dataframe thead th {\n",
       "        text-align: right;\n",
       "    }\n",
       "</style>\n",
       "<table border=\"1\" class=\"dataframe\">\n",
       "  <thead>\n",
       "    <tr style=\"text-align: right;\">\n",
       "      <th></th>\n",
       "      <th>recipeID</th>\n",
       "      <th>sugar</th>\n",
       "      <th>salt</th>\n",
       "      <th>butter</th>\n",
       "      <th>pepper</th>\n",
       "      <th>soysource</th>\n",
       "    </tr>\n",
       "  </thead>\n",
       "  <tbody>\n",
       "    <tr>\n",
       "      <th>5</th>\n",
       "      <td>0025761763a0e889198f8862ac891928963af837</td>\n",
       "      <td>0.0</td>\n",
       "      <td>0.0</td>\n",
       "      <td>0.0</td>\n",
       "      <td>0.5</td>\n",
       "      <td>0.0</td>\n",
       "    </tr>\n",
       "    <tr>\n",
       "      <th>23</th>\n",
       "      <td>0032dbe8954375e03bf030fbdac56b71036cf8db</td>\n",
       "      <td>0.0</td>\n",
       "      <td>0.5</td>\n",
       "      <td>0.0</td>\n",
       "      <td>0.5</td>\n",
       "      <td>0.0</td>\n",
       "    </tr>\n",
       "    <tr>\n",
       "      <th>24</th>\n",
       "      <td>0032dbe8954375e03bf030fbdac56b71036cf8db</td>\n",
       "      <td>0.0</td>\n",
       "      <td>0.5</td>\n",
       "      <td>0.0</td>\n",
       "      <td>0.5</td>\n",
       "      <td>0.0</td>\n",
       "    </tr>\n",
       "    <tr>\n",
       "      <th>37</th>\n",
       "      <td>00622337a9852af1fc0b8d6865b142c8946b5649</td>\n",
       "      <td>0.0</td>\n",
       "      <td>5.0</td>\n",
       "      <td>0.0</td>\n",
       "      <td>0.0</td>\n",
       "      <td>0.0</td>\n",
       "    </tr>\n",
       "    <tr>\n",
       "      <th>44</th>\n",
       "      <td>00a1613b57c9b3f4b4866ef42ec42a38dacbb2b3</td>\n",
       "      <td>0.0</td>\n",
       "      <td>0.0</td>\n",
       "      <td>125.0</td>\n",
       "      <td>0.0</td>\n",
       "      <td>0.0</td>\n",
       "    </tr>\n",
       "    <tr>\n",
       "      <th>56</th>\n",
       "      <td>00bdd3c327ea313f330360f21f925d87fd5d4996</td>\n",
       "      <td>0.0</td>\n",
       "      <td>0.0</td>\n",
       "      <td>0.0</td>\n",
       "      <td>0.5</td>\n",
       "      <td>0.5</td>\n",
       "    </tr>\n",
       "    <tr>\n",
       "      <th>59</th>\n",
       "      <td>00bdd3c327ea313f330360f21f925d87fd5d4996</td>\n",
       "      <td>0.0</td>\n",
       "      <td>0.0</td>\n",
       "      <td>0.0</td>\n",
       "      <td>0.5</td>\n",
       "      <td>0.5</td>\n",
       "    </tr>\n",
       "    <tr>\n",
       "      <th>63</th>\n",
       "      <td>00c3733f8a59b4dfa7c4f63ded8c0a5ad2193111</td>\n",
       "      <td>0.0</td>\n",
       "      <td>0.5</td>\n",
       "      <td>30.0</td>\n",
       "      <td>0.0</td>\n",
       "      <td>0.0</td>\n",
       "    </tr>\n",
       "    <tr>\n",
       "      <th>66</th>\n",
       "      <td>00c3733f8a59b4dfa7c4f63ded8c0a5ad2193111</td>\n",
       "      <td>0.0</td>\n",
       "      <td>0.5</td>\n",
       "      <td>30.0</td>\n",
       "      <td>0.0</td>\n",
       "      <td>0.0</td>\n",
       "    </tr>\n",
       "    <tr>\n",
       "      <th>97</th>\n",
       "      <td>010cf068ef711088720b000ff9849b9c6a97c8c4</td>\n",
       "      <td>90.0</td>\n",
       "      <td>0.0</td>\n",
       "      <td>0.0</td>\n",
       "      <td>0.0</td>\n",
       "      <td>0.0</td>\n",
       "    </tr>\n",
       "    <tr>\n",
       "      <th>119</th>\n",
       "      <td>0160bd9beec300f2b2d67caa2c66d18577c0d4fc</td>\n",
       "      <td>100.0</td>\n",
       "      <td>0.0</td>\n",
       "      <td>25.0</td>\n",
       "      <td>0.0</td>\n",
       "      <td>0.0</td>\n",
       "    </tr>\n",
       "    <tr>\n",
       "      <th>125</th>\n",
       "      <td>0160bd9beec300f2b2d67caa2c66d18577c0d4fc</td>\n",
       "      <td>100.0</td>\n",
       "      <td>0.0</td>\n",
       "      <td>25.0</td>\n",
       "      <td>0.0</td>\n",
       "      <td>0.0</td>\n",
       "    </tr>\n",
       "    <tr>\n",
       "      <th>126</th>\n",
       "      <td>016234a932ef2433978d1614e939b9bc7aa97615</td>\n",
       "      <td>120.0</td>\n",
       "      <td>0.0</td>\n",
       "      <td>120.0</td>\n",
       "      <td>0.0</td>\n",
       "      <td>0.0</td>\n",
       "    </tr>\n",
       "    <tr>\n",
       "      <th>136</th>\n",
       "      <td>016234a932ef2433978d1614e939b9bc7aa97615</td>\n",
       "      <td>120.0</td>\n",
       "      <td>0.0</td>\n",
       "      <td>120.0</td>\n",
       "      <td>0.0</td>\n",
       "      <td>0.0</td>\n",
       "    </tr>\n",
       "    <tr>\n",
       "      <th>147</th>\n",
       "      <td>0162a9bcf61189880d4f41174986a56f0cdb3935</td>\n",
       "      <td>0.0</td>\n",
       "      <td>0.0</td>\n",
       "      <td>0.0</td>\n",
       "      <td>0.5</td>\n",
       "      <td>0.0</td>\n",
       "    </tr>\n",
       "    <tr>\n",
       "      <th>160</th>\n",
       "      <td>01a4e2ef84710a737ae5ccad0f808c9d2448f5c9</td>\n",
       "      <td>0.0</td>\n",
       "      <td>0.0</td>\n",
       "      <td>0.0</td>\n",
       "      <td>0.5</td>\n",
       "      <td>0.0</td>\n",
       "    </tr>\n",
       "    <tr>\n",
       "      <th>163</th>\n",
       "      <td>01a4fc195960d7fac497362947c092a4ef651f6b</td>\n",
       "      <td>100.0</td>\n",
       "      <td>0.0</td>\n",
       "      <td>135.0</td>\n",
       "      <td>0.0</td>\n",
       "      <td>0.0</td>\n",
       "    </tr>\n",
       "    <tr>\n",
       "      <th>164</th>\n",
       "      <td>01a4fc195960d7fac497362947c092a4ef651f6b</td>\n",
       "      <td>100.0</td>\n",
       "      <td>0.0</td>\n",
       "      <td>135.0</td>\n",
       "      <td>0.0</td>\n",
       "      <td>0.0</td>\n",
       "    </tr>\n",
       "    <tr>\n",
       "      <th>172</th>\n",
       "      <td>01ba508c84c949c28d4bf67889835434cfd0ee04</td>\n",
       "      <td>80.0</td>\n",
       "      <td>0.0</td>\n",
       "      <td>120.0</td>\n",
       "      <td>0.0</td>\n",
       "      <td>0.0</td>\n",
       "    </tr>\n",
       "    <tr>\n",
       "      <th>173</th>\n",
       "      <td>01ba508c84c949c28d4bf67889835434cfd0ee04</td>\n",
       "      <td>80.0</td>\n",
       "      <td>0.0</td>\n",
       "      <td>120.0</td>\n",
       "      <td>0.0</td>\n",
       "      <td>0.0</td>\n",
       "    </tr>\n",
       "  </tbody>\n",
       "</table>\n",
       "</div>"
      ],
      "text/plain": [
       "                                     recipeID  sugar  salt  butter  pepper  \\\n",
       "5    0025761763a0e889198f8862ac891928963af837    0.0   0.0     0.0     0.5   \n",
       "23   0032dbe8954375e03bf030fbdac56b71036cf8db    0.0   0.5     0.0     0.5   \n",
       "24   0032dbe8954375e03bf030fbdac56b71036cf8db    0.0   0.5     0.0     0.5   \n",
       "37   00622337a9852af1fc0b8d6865b142c8946b5649    0.0   5.0     0.0     0.0   \n",
       "44   00a1613b57c9b3f4b4866ef42ec42a38dacbb2b3    0.0   0.0   125.0     0.0   \n",
       "56   00bdd3c327ea313f330360f21f925d87fd5d4996    0.0   0.0     0.0     0.5   \n",
       "59   00bdd3c327ea313f330360f21f925d87fd5d4996    0.0   0.0     0.0     0.5   \n",
       "63   00c3733f8a59b4dfa7c4f63ded8c0a5ad2193111    0.0   0.5    30.0     0.0   \n",
       "66   00c3733f8a59b4dfa7c4f63ded8c0a5ad2193111    0.0   0.5    30.0     0.0   \n",
       "97   010cf068ef711088720b000ff9849b9c6a97c8c4   90.0   0.0     0.0     0.0   \n",
       "119  0160bd9beec300f2b2d67caa2c66d18577c0d4fc  100.0   0.0    25.0     0.0   \n",
       "125  0160bd9beec300f2b2d67caa2c66d18577c0d4fc  100.0   0.0    25.0     0.0   \n",
       "126  016234a932ef2433978d1614e939b9bc7aa97615  120.0   0.0   120.0     0.0   \n",
       "136  016234a932ef2433978d1614e939b9bc7aa97615  120.0   0.0   120.0     0.0   \n",
       "147  0162a9bcf61189880d4f41174986a56f0cdb3935    0.0   0.0     0.0     0.5   \n",
       "160  01a4e2ef84710a737ae5ccad0f808c9d2448f5c9    0.0   0.0     0.0     0.5   \n",
       "163  01a4fc195960d7fac497362947c092a4ef651f6b  100.0   0.0   135.0     0.0   \n",
       "164  01a4fc195960d7fac497362947c092a4ef651f6b  100.0   0.0   135.0     0.0   \n",
       "172  01ba508c84c949c28d4bf67889835434cfd0ee04   80.0   0.0   120.0     0.0   \n",
       "173  01ba508c84c949c28d4bf67889835434cfd0ee04   80.0   0.0   120.0     0.0   \n",
       "\n",
       "     soysource  \n",
       "5          0.0  \n",
       "23         0.0  \n",
       "24         0.0  \n",
       "37         0.0  \n",
       "44         0.0  \n",
       "56         0.5  \n",
       "59         0.5  \n",
       "63         0.0  \n",
       "66         0.0  \n",
       "97         0.0  \n",
       "119        0.0  \n",
       "125        0.0  \n",
       "126        0.0  \n",
       "136        0.0  \n",
       "147        0.0  \n",
       "160        0.0  \n",
       "163        0.0  \n",
       "164        0.0  \n",
       "172        0.0  \n",
       "173        0.0  "
      ]
     },
     "execution_count": 192,
     "metadata": {},
     "output_type": "execute_result"
    }
   ],
   "source": [
    "vec_list = [\"砂糖\",\"塩\",\"バター\",\"塩こしょう\",\"醤油\"] #今回参考にする調味料\n",
    "df_ingredient_c_sum = t1.sum_seasoning(df_ingredient_c) #調味料をまとめる\n",
    "df_ingredient_c_sum_cut = df_ingredient_c_sum[df_ingredient_c_sum[\"ingredient\"].isin(vec_list)]\n",
    "\n",
    "def mk_vector(df): #調味料ベクトルを作成する。\n",
    "    \n",
    "    vec = pd.DataFrame(columns = [\"recipeID\",\"sugar\",\"salt\",\"butter\",\"pepper\",\"soysource\"],index=[])\n",
    "    vec_dic = {\"砂糖\":\"sugar\",\"塩\":\"salt\",\"バター\":\"butter\",\"塩こしょう\":\"pepper\",\"醤油\":\"soysource\"}\n",
    "    vec[\"recipeID\"] = df[\"recipeID\"]\n",
    "    for row in df.itertuples():\n",
    "        vec.loc[vec[\"recipeID\"]==row.recipeID,vec_dic[row.ingredient]] = row.size\n",
    "        \n",
    "    vec = vec.fillna(0)\n",
    "    return vec\n",
    "\n",
    "vec = mk_vector(df_ingredient_c_sum_cut)\n",
    "vec[:20]"
   ]
  },
  {
   "cell_type": "markdown",
   "metadata": {},
   "source": [
    "各項目ごとでプロットしてみる。\n"
   ]
  },
  {
   "cell_type": "code",
   "execution_count": 193,
   "metadata": {},
   "outputs": [
    {
     "data": {
      "image/png": "[encoded data removed]",
      "text/plain": [
       "<Figure size 576x576 with 25 Axes>"
      ]
     },
     "metadata": {
      "needs_background": "light"
     },
     "output_type": "display_data"
    }
   ],
   "source": [
    "import matplotlib.pyplot as plt\n",
    "%matplotlib inline\n",
    "\n",
    "from pandas import plotting \n",
    "plotting.scatter_matrix(vec.iloc[:, 1:], figsize=(8, 8), alpha=0.5)\n",
    "plt.show()"
   ]
  },
  {
   "cell_type": "markdown",
   "metadata": {},
   "source": [
    "ほとんど値が散らばらなかった。バター、砂糖は値がしっかりと分散していて、砂糖-バター図は散布図になっているが、ほかはほとんどの値がつぶれてしまっている。特にsoysource、saltはほとんど0である。"
   ]
  },
  {
   "cell_type": "markdown",
   "metadata": {},
   "source": [
    "### 仮設2：料理あたりのつくれぽの数を人気として、追加データとする\n",
    "そもそも、もともとの目標としてはおいしいおつまみを求めることであった。しかし、食材のみによるおいしさの分析が食材数の数もあって困難なので、疑似的なおいしさの指標としてつくれぽの数を付け加えてみる。"
   ]
  },
  {
   "cell_type": "code",
   "execution_count": 195,
   "metadata": {},
   "outputs": [
    {
     "data": {
      "text/plain": [
       "53fac1059a0ed4d4e1e0ddabbb77d96e5094f1e8    1456\n",
       "0caad21c9630c106dd1f49f6fe8c7883b1677bb5    1151\n",
       "d560ab553a60f2a77ac001676fcad37fc8706140     344\n",
       "0918c05d92aec019e2aca2a9291ec64a8a2aedbf     188\n",
       "69ad06a44ae57566e05bb5338f04f9b2e9b10c78     126\n",
       "ae462e95eadf34b7b03939fa0d16928f7e658334     106\n",
       "b45efd13f5a61c3beaf76f8424f6fd818baf3a7a      48\n",
       "ef0737f6d24edf5061e6e4c1b19158bd7c70ed31      45\n",
       "ef9607dd07637beaec58a4cd06276828d1014312      44\n",
       "2d91cf3d58d18bd178b0abaa140422b21a0c073b      39\n",
       "2c1396ef59c22bbb1b06895dbc90f86d4f4b2c14      38\n",
       "efced25dc7db9cc21896ffd77247f2ccf934ec90      28\n",
       "9a2f48ea5c5f19f5795aabee8be9fc04a9d5471d      19\n",
       "a640cfecc419ffe2e99da68cca945a01b5acd2b5      19\n",
       "019e8d496aadb8270f64ce0b6444f7951261d81a      18\n",
       "9220024e56bdfaaa454357adefd309c5eafd0944      16\n",
       "0fecd80b4fcc40ccc65003cb48698a0782ca834c      14\n",
       "4a1dc6a89893a9f4951be68a1a7d84d457c8a434      13\n",
       "cfb503debfbca44994377b5d2b286d82b4ac251b      12\n",
       "1231f05067f313f3f0dc172b293c1c8c1a680ef9      12\n",
       "Name: recipeID, dtype: int64"
      ]
     },
     "execution_count": 195,
     "metadata": {},
     "output_type": "execute_result"
    }
   ],
   "source": [
    "df_report = t1.read_report(2000)\n",
    "repo_num = df_report[\"recipeID\"].value_counts()\n",
    "repo_num[:20]"
   ]
  },
  {
   "cell_type": "code",
   "execution_count": 196,
   "metadata": {},
   "outputs": [
    {
     "data": {
      "image/png": "[encoded data removed]",
      "text/plain": [
       "<Figure size 576x576 with 36 Axes>"
      ]
     },
     "metadata": {
      "needs_background": "light"
     },
     "output_type": "display_data"
    }
   ],
   "source": [
    "df_repo_num = repo_num.reset_index()\n",
    "df_repo_num = df_repo_num.rename(columns = {\"index\":\"recipeID\",\"recipeID\":\"repo_num\"}) #集計結果をDataFrameに直す\n",
    "repo_vec = vec.copy()\n",
    "repo_vec[\"repo_num\"] = 0\n",
    "\n",
    "for row in df_repo_num.itertuples():\n",
    "    repo_vec.loc[repo_vec[\"recipeID\"]==row.recipeID,\"repo_num\"] = row.repo_num\n",
    "    \n",
    "plotting.scatter_matrix(repo_vec.iloc[:, 1:], figsize=(8, 8), alpha=0.5)\n",
    "plt.show()"
   ]
  },
  {
   "cell_type": "markdown",
   "metadata": {},
   "source": [
    "結果はあまり変わらなかった。プロットする前につくれぽのデータを見てもらえばわかるのだが、つくれぽ数上位1,2が1000越えに対し、3位から急に300くらいになり、7位くらいで50くらいになっていることから、つくれぽの数を単純においしさの指標とするのはかなり無理がある結果となった。"
   ]
  },
  {
   "cell_type": "markdown",
   "metadata": {},
   "source": [
    "### 本題：おつまみについて\n",
    "今まではあくまでデータ整形がすべての料理に関して適用できたため、ひとまず全体を見ていたが、我々のもともとのトピックはおつまみであるので、おつまみに絞って上で行ったデータ分析を行ってみる。"
   ]
  },
  {
   "cell_type": "code",
   "execution_count": 197,
   "metadata": {},
   "outputs": [
    {
     "data": {
      "image/png": "[encoded data removed]",
      "text/plain": [
       "<Figure size 576x576 with 25 Axes>"
      ]
     },
     "metadata": {
      "needs_background": "light"
     },
     "output_type": "display_data"
    }
   ],
   "source": [
    "def extract_something(df,sth): #料理名と詳細からあるワードを含むものを返す\n",
    "    x=df[df[\"recipe_name\"].str.contains(sth,na=False)]\n",
    "    y=df[df[\"details\"].str.contains(sth,na=False)]\n",
    "    z=x.append(y)\n",
    "    a=set(z[\"recipeID\"])\n",
    "    return df[df[\"recipeID\"].isin(a)]\n",
    "\n",
    "otsumami_recipe = extract_something(df_recipe,\"おつまみ\")\n",
    "otsumami_vec = vec[vec[\"recipeID\"].isin(otsumami_recipe[\"recipeID\"])]\n",
    "plotting.scatter_matrix(otsumami_vec.iloc[:, 1:], figsize=(8, 8), alpha=0.5)\n",
    "plt.show()"
   ]
  },
  {
   "cell_type": "markdown",
   "metadata": {},
   "source": [
    "もともとのデータ数が少ないのもあるが、バターがほとんどなくなりかわりに醤油、塩などの項目が増えた。だが、相変わらずかなり疎な散布図となっている。データ数が少ないのである程度の年数をおつまみに絞ってまとめて処理してみる。"
   ]
  },
  {
   "cell_type": "code",
   "execution_count": 198,
   "metadata": {},
   "outputs": [
    {
     "data": {
      "image/png": "[encoded data removed]",
      "text/plain": [
       "<Figure size 576x576 with 25 Axes>"
      ]
     },
     "metadata": {
      "needs_background": "light"
     },
     "output_type": "display_data"
    }
   ],
   "source": [
    "dflist_ingredient = []\n",
    "dflist_recipe = []\n",
    "\n",
    "years = [1998,1999,2000,2001,2002,2003,2004,2005,2006,2007]\n",
    "\n",
    "for year in years:\n",
    "    df = t1.read_ingredient(year)\n",
    "    dflist_ingredient.append(df)\n",
    "    df = t1.read_recipe(year)\n",
    "    dflist_recipe.append(df)\n",
    "    \n",
    "df_ingredient = pd.concat(dflist_ingredient)\n",
    "df_recipe = pd.concat(dflist_recipe)\n",
    "\n",
    "otsumami = extract_something(df_recipe,\"おつまみ\") #おつまみを含むレシピ名を抽出\n",
    "otsumami_ingredient = df_ingredient[df_ingredient[\"recipeID\"].isin(otsumami[\"recipeID\"])] #材料からおつまみの料理のやつを抽出\n",
    "otsumami_ingredient_c = t1.clean_ingredient(otsumami_ingredient) #データ整形\n",
    "otsumami_ingredient_c_sum = t1.sum_seasoning(otsumami_ingredient_c)\n",
    "otsumami_ingredient_c_sum_cut = otsumami_ingredient_c_sum[otsumami_ingredient_c_sum[\"ingredient\"].isin(vec_list)]\n",
    "otsumami_vec_long = mk_vector(otsumami_ingredient_c_sum_cut)\n",
    "plotting.scatter_matrix(otsumami_vec_long.iloc[:, 1:], figsize=(8, 8), alpha=0.5)\n",
    "plt.show()"
   ]
  },
  {
   "cell_type": "markdown",
   "metadata": {},
   "source": [
    "データ数が増えたことによって、砂糖、バターの値がばらついた。しかし、砂糖-バターの散布図は相変わらず軸の近くである。  \n",
    "### 結果：塩、醤油などの調味料では料理ごとにほとんどばらつきがない。\n",
    "おつまみに絞る前から結果は出ていたが、やはり塩、こしょうなどの調味料では各料理にばらつきは出にくい。かといって、たくさんの食材を使うと疎な行列となってしまう。\n",
    "### 次回やること\n",
    "おつまいに絞った食材のランキングを見てみる。"
   ]
  },
  {
   "cell_type": "code",
   "execution_count": 200,
   "metadata": {},
   "outputs": [
    {
     "data": {
      "text/plain": [
       "塩          956\n",
       "醤油         733\n",
       "マヨネーズ      570\n",
       "ごま油        570\n",
       "酒          517\n",
       "砂糖         467\n",
       "しょうゆ       457\n",
       "にんにく       411\n",
       "サラダ油       378\n",
       "片栗粉        334\n",
       "バター        314\n",
       "みりん        312\n",
       "きゅうり       308\n",
       "卵          291\n",
       "水          288\n",
       "オリーブオイル    283\n",
       "小麦粉        265\n",
       "揚げ油        241\n",
       "じゃがいも      235\n",
       "大葉         233\n",
       "Name: ingredient, dtype: int64"
      ]
     },
     "execution_count": 200,
     "metadata": {},
     "output_type": "execute_result"
    }
   ],
   "source": [
    "otsumami_ingredient[\"ingredient\"].value_counts()[:20]"
   ]
  },
  {
   "cell_type": "markdown",
   "metadata": {},
   "source": [
    "料理全体と違って、塩、醤油、マヨネーズ、ごま油などラインナップが変わっている。また、にんにく、きゅうりなど具体的な食材も出てきているためおつまみに絞る場合、おつまみ専用の調味料リストを考えたほうがよさそう。また、きゅうり、にんにくのデータを見ると"
   ]
  },
  {
   "cell_type": "code",
   "execution_count": 203,
   "metadata": {},
   "outputs": [
    {
     "data": {
      "text/html": [
       "<div>\n",
       "<style scoped>\n",
       "    .dataframe tbody tr th:only-of-type {\n",
       "        vertical-align: middle;\n",
       "    }\n",
       "\n",
       "    .dataframe tbody tr th {\n",
       "        vertical-align: top;\n",
       "    }\n",
       "\n",
       "    .dataframe thead th {\n",
       "        text-align: right;\n",
       "    }\n",
       "</style>\n",
       "<table border=\"1\" class=\"dataframe\">\n",
       "  <thead>\n",
       "    <tr style=\"text-align: right;\">\n",
       "      <th></th>\n",
       "      <th>recipeID</th>\n",
       "      <th>ingredient</th>\n",
       "      <th>size</th>\n",
       "    </tr>\n",
       "  </thead>\n",
       "  <tbody>\n",
       "    <tr>\n",
       "      <th>732</th>\n",
       "      <td>491c5a2580941b1c4133fc398028caa4fd4df8eb</td>\n",
       "      <td>きゅうり</td>\n",
       "      <td>２本</td>\n",
       "    </tr>\n",
       "    <tr>\n",
       "      <th>10500</th>\n",
       "      <td>518937857787a18ad41d9b12f5a53b813f3b373f</td>\n",
       "      <td>きゅうり</td>\n",
       "      <td>１本</td>\n",
       "    </tr>\n",
       "    <tr>\n",
       "      <th>11955</th>\n",
       "      <td>5ce777196e73d6e762e627a8fb5bfc1fcc53411e</td>\n",
       "      <td>きゅうり</td>\n",
       "      <td>２本</td>\n",
       "    </tr>\n",
       "    <tr>\n",
       "      <th>13386</th>\n",
       "      <td>661abd2abb9bd0b93c460cb7642fbd03b9693f77</td>\n",
       "      <td>きゅうり</td>\n",
       "      <td>１～２本</td>\n",
       "    </tr>\n",
       "    <tr>\n",
       "      <th>22874</th>\n",
       "      <td>aeb05c263a36da94ed2f419c678d0032e3a3ebe3</td>\n",
       "      <td>きゅうり</td>\n",
       "      <td>1/2～１本</td>\n",
       "    </tr>\n",
       "    <tr>\n",
       "      <th>28306</th>\n",
       "      <td>d79037e0c0c5cf365b40666ec26ad51a66cb0964</td>\n",
       "      <td>きゅうり</td>\n",
       "      <td>２・３本</td>\n",
       "    </tr>\n",
       "    <tr>\n",
       "      <th>29544</th>\n",
       "      <td>e06e72b4d9c8ce86377e44587e42d86b2b27c072</td>\n",
       "      <td>きゅうり</td>\n",
       "      <td>２本</td>\n",
       "    </tr>\n",
       "    <tr>\n",
       "      <th>32954</th>\n",
       "      <td>f87cf3067b608b3048fcdb2a84bbbfe1e85d94a3</td>\n",
       "      <td>きゅうり</td>\n",
       "      <td>2本</td>\n",
       "    </tr>\n",
       "    <tr>\n",
       "      <th>33328</th>\n",
       "      <td>fb2c8e83cc55a9f9f8d6c341a8fa2755d158e5d1</td>\n",
       "      <td>きゅうり</td>\n",
       "      <td>１本</td>\n",
       "    </tr>\n",
       "    <tr>\n",
       "      <th>17701</th>\n",
       "      <td>38af96d6c34fcaa7f013cdd53e7e39a8fe5d6b1d</td>\n",
       "      <td>きゅうり</td>\n",
       "      <td>1/2本</td>\n",
       "    </tr>\n",
       "    <tr>\n",
       "      <th>19401</th>\n",
       "      <td>3eda5d5253fba54172b66a8f096efd20395f84a6</td>\n",
       "      <td>きゅうり</td>\n",
       "      <td>1本</td>\n",
       "    </tr>\n",
       "    <tr>\n",
       "      <th>21432</th>\n",
       "      <td>46b3f6b8b9f3b1a97dd7c0528ae316edcdb20011</td>\n",
       "      <td>きゅうり</td>\n",
       "      <td>３本</td>\n",
       "    </tr>\n",
       "    <tr>\n",
       "      <th>21468</th>\n",
       "      <td>46def9b97e71f6006c1c659a773da04c11e6dc87</td>\n",
       "      <td>きゅうり</td>\n",
       "      <td>１本</td>\n",
       "    </tr>\n",
       "    <tr>\n",
       "      <th>29821</th>\n",
       "      <td>645be1cff2bfb9e96d27f3ff473182d7264b324d</td>\n",
       "      <td>きゅうり</td>\n",
       "      <td>１，２本</td>\n",
       "    </tr>\n",
       "    <tr>\n",
       "      <th>30965</th>\n",
       "      <td>68b821b6aa3aabe9bf03d5caeb6e7f23c9a8c060</td>\n",
       "      <td>きゅうり</td>\n",
       "      <td>２分の１本</td>\n",
       "    </tr>\n",
       "    <tr>\n",
       "      <th>32981</th>\n",
       "      <td>6ed0e738b6445d880dcfa128852d69f8475d4a07</td>\n",
       "      <td>きゅうり</td>\n",
       "      <td>1.5本</td>\n",
       "    </tr>\n",
       "    <tr>\n",
       "      <th>60446</th>\n",
       "      <td>cca937ce1c27db4cdf53b21a41b338b90182e4d2</td>\n",
       "      <td>きゅうり</td>\n",
       "      <td>１．５本</td>\n",
       "    </tr>\n",
       "    <tr>\n",
       "      <th>60718</th>\n",
       "      <td>cd625bbb5b95d047d0aabec8dd6e400158da0898</td>\n",
       "      <td>きゅうり</td>\n",
       "      <td>1本</td>\n",
       "    </tr>\n",
       "    <tr>\n",
       "      <th>7995</th>\n",
       "      <td>1478a02c5be57980f8d34995a61a5bf4357d532f</td>\n",
       "      <td>きゅうり</td>\n",
       "      <td>１本</td>\n",
       "    </tr>\n",
       "    <tr>\n",
       "      <th>11657</th>\n",
       "      <td>1d0e39b89416d7133b4fe4ca54c6cf99e2b47c9b</td>\n",
       "      <td>きゅうり</td>\n",
       "      <td>1本</td>\n",
       "    </tr>\n",
       "  </tbody>\n",
       "</table>\n",
       "</div>"
      ],
      "text/plain": [
       "                                       recipeID ingredient    size\n",
       "732    491c5a2580941b1c4133fc398028caa4fd4df8eb       きゅうり      ２本\n",
       "10500  518937857787a18ad41d9b12f5a53b813f3b373f       きゅうり      １本\n",
       "11955  5ce777196e73d6e762e627a8fb5bfc1fcc53411e       きゅうり      ２本\n",
       "13386  661abd2abb9bd0b93c460cb7642fbd03b9693f77       きゅうり    １～２本\n",
       "22874  aeb05c263a36da94ed2f419c678d0032e3a3ebe3       きゅうり  1/2～１本\n",
       "28306  d79037e0c0c5cf365b40666ec26ad51a66cb0964       きゅうり    ２・３本\n",
       "29544  e06e72b4d9c8ce86377e44587e42d86b2b27c072       きゅうり      ２本\n",
       "32954  f87cf3067b608b3048fcdb2a84bbbfe1e85d94a3       きゅうり      2本\n",
       "33328  fb2c8e83cc55a9f9f8d6c341a8fa2755d158e5d1       きゅうり      １本\n",
       "17701  38af96d6c34fcaa7f013cdd53e7e39a8fe5d6b1d       きゅうり    1/2本\n",
       "19401  3eda5d5253fba54172b66a8f096efd20395f84a6       きゅうり      1本\n",
       "21432  46b3f6b8b9f3b1a97dd7c0528ae316edcdb20011       きゅうり      ３本\n",
       "21468  46def9b97e71f6006c1c659a773da04c11e6dc87       きゅうり      １本\n",
       "29821  645be1cff2bfb9e96d27f3ff473182d7264b324d       きゅうり    １，２本\n",
       "30965  68b821b6aa3aabe9bf03d5caeb6e7f23c9a8c060       きゅうり   ２分の１本\n",
       "32981  6ed0e738b6445d880dcfa128852d69f8475d4a07       きゅうり    1.5本\n",
       "60446  cca937ce1c27db4cdf53b21a41b338b90182e4d2       きゅうり    １．５本\n",
       "60718  cd625bbb5b95d047d0aabec8dd6e400158da0898       きゅうり      1本\n",
       "7995   1478a02c5be57980f8d34995a61a5bf4357d532f       きゅうり      １本\n",
       "11657  1d0e39b89416d7133b4fe4ca54c6cf99e2b47c9b       きゅうり      1本"
      ]
     },
     "execution_count": 203,
     "metadata": {},
     "output_type": "execute_result"
    }
   ],
   "source": [
    "otsumami_ingredient[otsumami_ingredient[\"ingredient\"] == \"きゅうり\"][:20]"
   ]
  },
  {
   "cell_type": "code",
   "execution_count": 204,
   "metadata": {},
   "outputs": [
    {
     "data": {
      "text/html": [
       "<div>\n",
       "<style scoped>\n",
       "    .dataframe tbody tr th:only-of-type {\n",
       "        vertical-align: middle;\n",
       "    }\n",
       "\n",
       "    .dataframe tbody tr th {\n",
       "        vertical-align: top;\n",
       "    }\n",
       "\n",
       "    .dataframe thead th {\n",
       "        text-align: right;\n",
       "    }\n",
       "</style>\n",
       "<table border=\"1\" class=\"dataframe\">\n",
       "  <thead>\n",
       "    <tr style=\"text-align: right;\">\n",
       "      <th></th>\n",
       "      <th>recipeID</th>\n",
       "      <th>ingredient</th>\n",
       "      <th>size</th>\n",
       "    </tr>\n",
       "  </thead>\n",
       "  <tbody>\n",
       "    <tr>\n",
       "      <th>1075</th>\n",
       "      <td>6e4eae162fe0353089b58bf079c5d476c9db160e</td>\n",
       "      <td>にんにく</td>\n",
       "      <td>1粒</td>\n",
       "    </tr>\n",
       "    <tr>\n",
       "      <th>891</th>\n",
       "      <td>077f34aec629ea6de46d2a007140319f0cf47444</td>\n",
       "      <td>にんにく</td>\n",
       "      <td>1/3個</td>\n",
       "    </tr>\n",
       "    <tr>\n",
       "      <th>4439</th>\n",
       "      <td>216000a1860f36f7be74889ce7ddecb8c09e1de0</td>\n",
       "      <td>にんにく</td>\n",
       "      <td>２かけくらい</td>\n",
       "    </tr>\n",
       "    <tr>\n",
       "      <th>5614</th>\n",
       "      <td>2b2acd510c4e920304bc0c951a127e309f110e5a</td>\n",
       "      <td>にんにく</td>\n",
       "      <td>適量(お好みで)</td>\n",
       "    </tr>\n",
       "    <tr>\n",
       "      <th>8430</th>\n",
       "      <td>42163a99d7360f7eac7e17fec63540ef92db3ee6</td>\n",
       "      <td>にんにく</td>\n",
       "      <td>中国産なら２かけ</td>\n",
       "    </tr>\n",
       "    <tr>\n",
       "      <th>10165</th>\n",
       "      <td>4f75baf77bce50d61c18b8de6ccd5c010a995f1b</td>\n",
       "      <td>にんにく</td>\n",
       "      <td>少々</td>\n",
       "    </tr>\n",
       "    <tr>\n",
       "      <th>13395</th>\n",
       "      <td>661abd2abb9bd0b93c460cb7642fbd03b9693f77</td>\n",
       "      <td>にんにく</td>\n",
       "      <td>半かけ位</td>\n",
       "    </tr>\n",
       "    <tr>\n",
       "      <th>22604</th>\n",
       "      <td>acc4a11c7b06c79f23e62e2234344f91dbb9001c</td>\n",
       "      <td>にんにく</td>\n",
       "      <td>好みの量</td>\n",
       "    </tr>\n",
       "    <tr>\n",
       "      <th>24272</th>\n",
       "      <td>b971c07544c3daa4e0486794869402aa49ab5c31</td>\n",
       "      <td>にんにく</td>\n",
       "      <td>1片</td>\n",
       "    </tr>\n",
       "    <tr>\n",
       "      <th>25072</th>\n",
       "      <td>bfb94827e0a697e0e9132406ddc6fa7fd326a419</td>\n",
       "      <td>にんにく</td>\n",
       "      <td>1/2ｶｹすり下ろし</td>\n",
       "    </tr>\n",
       "    <tr>\n",
       "      <th>26037</th>\n",
       "      <td>c5e43a68784bc888ba748ac77f57db00740d32a6</td>\n",
       "      <td>にんにく</td>\n",
       "      <td>１片</td>\n",
       "    </tr>\n",
       "    <tr>\n",
       "      <th>26552</th>\n",
       "      <td>ca58f0bb0c3e9af45d4f2a89c5f99e5356ccb11c</td>\n",
       "      <td>にんにく</td>\n",
       "      <td>2かけ</td>\n",
       "    </tr>\n",
       "    <tr>\n",
       "      <th>28307</th>\n",
       "      <td>d79037e0c0c5cf365b40666ec26ad51a66cb0964</td>\n",
       "      <td>にんにく</td>\n",
       "      <td>２かけ</td>\n",
       "    </tr>\n",
       "    <tr>\n",
       "      <th>28475</th>\n",
       "      <td>d8691c5f38ce08c11ce4ab0d506d417f8dbbef85</td>\n",
       "      <td>にんにく</td>\n",
       "      <td>1片</td>\n",
       "    </tr>\n",
       "    <tr>\n",
       "      <th>29895</th>\n",
       "      <td>e31b58bb6a83ee9abb909f0111f5e62c2786444a</td>\n",
       "      <td>にんにく</td>\n",
       "      <td>１片</td>\n",
       "    </tr>\n",
       "    <tr>\n",
       "      <th>33717</th>\n",
       "      <td>fde7dc07132f8fe2369e8ef76d67226f40b65996</td>\n",
       "      <td>にんにく</td>\n",
       "      <td>１かけ</td>\n",
       "    </tr>\n",
       "    <tr>\n",
       "      <th>902</th>\n",
       "      <td>02d61398fce78e988efdf10e4e864c72c861aa39</td>\n",
       "      <td>にんにく</td>\n",
       "      <td>ひとかけ</td>\n",
       "    </tr>\n",
       "    <tr>\n",
       "      <th>924</th>\n",
       "      <td>02dd834619d300577928729a804fa8099c0f33d1</td>\n",
       "      <td>にんにく</td>\n",
       "      <td>１片</td>\n",
       "    </tr>\n",
       "    <tr>\n",
       "      <th>7144</th>\n",
       "      <td>17f718769f51bdf2e194ef9a8b08036bccdebc51</td>\n",
       "      <td>にんにく</td>\n",
       "      <td>1かけ</td>\n",
       "    </tr>\n",
       "    <tr>\n",
       "      <th>13124</th>\n",
       "      <td>2a8f6e2a90080d62d79eb697f106c14965ed3a52</td>\n",
       "      <td>にんにく</td>\n",
       "      <td>少々</td>\n",
       "    </tr>\n",
       "  </tbody>\n",
       "</table>\n",
       "</div>"
      ],
      "text/plain": [
       "                                       recipeID ingredient        size\n",
       "1075   6e4eae162fe0353089b58bf079c5d476c9db160e       にんにく          1粒\n",
       "891    077f34aec629ea6de46d2a007140319f0cf47444       にんにく        1/3個\n",
       "4439   216000a1860f36f7be74889ce7ddecb8c09e1de0       にんにく      ２かけくらい\n",
       "5614   2b2acd510c4e920304bc0c951a127e309f110e5a       にんにく    適量(お好みで)\n",
       "8430   42163a99d7360f7eac7e17fec63540ef92db3ee6       にんにく    中国産なら２かけ\n",
       "10165  4f75baf77bce50d61c18b8de6ccd5c010a995f1b       にんにく          少々\n",
       "13395  661abd2abb9bd0b93c460cb7642fbd03b9693f77       にんにく        半かけ位\n",
       "22604  acc4a11c7b06c79f23e62e2234344f91dbb9001c       にんにく        好みの量\n",
       "24272  b971c07544c3daa4e0486794869402aa49ab5c31       にんにく          1片\n",
       "25072  bfb94827e0a697e0e9132406ddc6fa7fd326a419       にんにく  1/2ｶｹすり下ろし\n",
       "26037  c5e43a68784bc888ba748ac77f57db00740d32a6       にんにく          １片\n",
       "26552  ca58f0bb0c3e9af45d4f2a89c5f99e5356ccb11c       にんにく         2かけ\n",
       "28307  d79037e0c0c5cf365b40666ec26ad51a66cb0964       にんにく         ２かけ\n",
       "28475  d8691c5f38ce08c11ce4ab0d506d417f8dbbef85       にんにく          1片\n",
       "29895  e31b58bb6a83ee9abb909f0111f5e62c2786444a       にんにく          １片\n",
       "33717  fde7dc07132f8fe2369e8ef76d67226f40b65996       にんにく         １かけ\n",
       "902    02d61398fce78e988efdf10e4e864c72c861aa39       にんにく        ひとかけ\n",
       "924    02dd834619d300577928729a804fa8099c0f33d1       にんにく          １片\n",
       "7144   17f718769f51bdf2e194ef9a8b08036bccdebc51       にんにく         1かけ\n",
       "13124  2a8f6e2a90080d62d79eb697f106c14965ed3a52       にんにく          少々"
      ]
     },
     "execution_count": 204,
     "metadata": {},
     "output_type": "execute_result"
    }
   ],
   "source": [
    "otsumami_ingredient[otsumami_ingredient[\"ingredient\"] == \"にんにく\"][:20]"
   ]
  },
  {
   "cell_type": "markdown",
   "metadata": {},
   "source": [
    "きゅうりはほとんどが数字+本という表現になっており、にんにくもきゅうりほどではないが数字＋かけ/片という表現になっているので、これらを定量化して分析する。"
   ]
  }
 ],
 "metadata": {
  "kernelspec": {
   "display_name": "Python 3",
   "language": "python",
   "name": "python3"
  },
  "language_info": {
   "codemirror_mode": {
    "name": "ipython",
    "version": 3
   },
   "file_extension": ".py",
   "mimetype": "text/x-python",
   "name": "python",
   "nbconvert_exporter": "python",
   "pygments_lexer": "ipython3",
   "version": "3.7.3"
  }
 },
 "nbformat": 4,
 "nbformat_minor": 2
}
